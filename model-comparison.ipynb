{
 "cells": [
  {
   "cell_type": "markdown",
   "metadata": {
    "collapsed": true
   },
   "source": [
    "# Churn Prediction - Model Comparison"
   ]
  },
  {
   "cell_type": "code",
   "execution_count": 2,
   "metadata": {
    "collapsed": false
   },
   "outputs": [
    {
     "name": "stdout",
     "output_type": "stream",
     "text": [
      "Loading dataset ... \n",
      "This data set contains 3333 data and 17 features\n",
      "\n",
      "****** KNeighborsClassifier ******\n",
      "Fitting 10 folds for each of 5 candidates, totalling 50 fits\n"
     ]
    },
    {
     "name": "stderr",
     "output_type": "stream",
     "text": [
      "[Parallel(n_jobs=-1)]: Done  42 tasks      | elapsed:    8.2s\n"
     ]
    },
    {
     "name": "stdout",
     "output_type": "stream",
     "text": [
      "Best parameters set :\n",
      "{'n_neighbors': 30}\n",
      "Best score: 0.877\n",
      "Grid scores :\n",
      "0.790 (+/-0.073) for {'n_neighbors': 3}\n",
      "0.829 (+/-0.057) for {'n_neighbors': 5}\n",
      "0.851 (+/-0.059) for {'n_neighbors': 7}\n",
      "0.866 (+/-0.055) for {'n_neighbors': 10}\n",
      "0.877 (+/-0.078) for {'n_neighbors': 30}\n",
      "\n",
      "****** SGDClassifier ******\n",
      "Fitting 10 folds for each of 6 candidates, totalling 60 fits\n"
     ]
    },
    {
     "name": "stderr",
     "output_type": "stream",
     "text": [
      "[Parallel(n_jobs=-1)]: Done  50 out of  50 | elapsed:   10.0s finished\n"
     ]
    },
    {
     "name": "stdout",
     "output_type": "stream",
     "text": [
      "Best parameters set :\n",
      "{'alpha': 1}\n",
      "Best score: 0.774\n",
      "Grid scores :\n",
      "0.656 (+/-0.161) for {'alpha': 1e-07}\n",
      "0.653 (+/-0.147) for {'alpha': 1e-05}\n",
      "0.709 (+/-0.119) for {'alpha': 0.001}\n",
      "0.758 (+/-0.116) for {'alpha': 0.1}\n",
      "0.774 (+/-0.102) for {'alpha': 1}\n",
      "0.767 (+/-0.097) for {'alpha': 10}\n",
      "\n",
      "****** SVC ******\n",
      "Fitting 10 folds for each of 12 candidates, totalling 120 fits\n"
     ]
    },
    {
     "name": "stderr",
     "output_type": "stream",
     "text": [
      "[Parallel(n_jobs=-1)]: Done  60 out of  60 | elapsed:    0.4s finished\n",
      "[Parallel(n_jobs=-1)]: Done  42 tasks      | elapsed:    4.3s\n",
      "[Parallel(n_jobs=-1)]: Done 120 out of 120 | elapsed:   18.4s finished\n"
     ]
    },
    {
     "name": "stdout",
     "output_type": "stream",
     "text": [
      "Best parameters set :\n",
      "{'C': 1, 'kernel': 'rbf'}\n",
      "Best score: 0.892\n",
      "Grid scores :\n",
      "0.890 (+/-0.079) for {'C': 0.1, 'kernel': 'rbf'}\n",
      "0.874 (+/-0.093) for {'C': 0.1, 'kernel': 'poly'}\n",
      "0.755 (+/-0.097) for {'C': 0.1, 'kernel': 'linear'}\n",
      "0.563 (+/-0.078) for {'C': 0.1, 'kernel': 'sigmoid'}\n",
      "0.892 (+/-0.082) for {'C': 1, 'kernel': 'rbf'}\n",
      "0.875 (+/-0.096) for {'C': 1, 'kernel': 'poly'}\n",
      "0.736 (+/-0.096) for {'C': 1, 'kernel': 'linear'}\n",
      "0.503 (+/-0.071) for {'C': 1, 'kernel': 'sigmoid'}\n",
      "0.884 (+/-0.079) for {'C': 10, 'kernel': 'rbf'}\n",
      "0.847 (+/-0.109) for {'C': 10, 'kernel': 'poly'}\n",
      "0.735 (+/-0.116) for {'C': 10, 'kernel': 'linear'}\n",
      "0.462 (+/-0.086) for {'C': 10, 'kernel': 'sigmoid'}\n",
      "\n",
      "****** LinearSVC ******\n",
      "Fitting 10 folds for each of 3 candidates, totalling 30 fits\n",
      "Best parameters set :\n",
      "{'C': 0.1}\n",
      "Best score: 0.807\n",
      "Grid scores :\n",
      "0.807 (+/-0.101) for {'C': 0.1}\n",
      "0.807 (+/-0.101) for {'C': 1}\n",
      "0.798 (+/-0.103) for {'C': 10}\n",
      "\n"
     ]
    },
    {
     "name": "stderr",
     "output_type": "stream",
     "text": [
      "[Parallel(n_jobs=-1)]: Done  30 out of  30 | elapsed:    3.4s finished\n"
     ]
    }
   ],
   "source": [
    "import pandas as pd\n",
    "import numpy as np\n",
    "from sklearn.preprocessing import StandardScaler\n",
    "from sklearn.neighbors import KNeighborsClassifier\n",
    "from sklearn.linear_model import SGDClassifier\n",
    "from sklearn.svm import LinearSVC, SVC\n",
    "from sklearn.model_selection import GridSearchCV\n",
    "\n",
    "\n",
    "# load data\n",
    "print(\"Loading dataset ... \")\n",
    "df = pd.read_csv(\"churn_clean.csv\", header=0, delimiter=\",\")\n",
    "y = df[\"churn\"]\n",
    "X = df.drop([\"churn\"],axis=1)\n",
    "features = X.columns\n",
    "print(\"This data set contains %d data and %d features\" % X.shape)\n",
    "print()\n",
    "\n",
    "\n",
    "# standandize features\n",
    "scaler = StandardScaler()\n",
    "X = scaler.fit_transform(X)\n",
    "\n",
    "\n",
    "# GridSearch - KNN\n",
    "print(\"****** KNeighborsClassifier ******\")\n",
    "parameters = {\"n_neighbors\":[3,5,7,10,30]}          \n",
    "grid_search = GridSearchCV(KNeighborsClassifier(), parameters, cv=10, scoring=\"roc_auc\", n_jobs=-1, verbose=1)\n",
    "grid_search.fit(X,y)\n",
    "print(\"Best parameters set :\")\n",
    "print(grid_search.best_params_)\n",
    "print(\"Best score: %0.3f\" % grid_search.best_score_)\n",
    "print(\"Grid scores :\")\n",
    "means = grid_search.cv_results_['mean_test_score']\n",
    "stds = grid_search.cv_results_['std_test_score']\n",
    "for mean, std, params in zip(means, stds, grid_search.cv_results_['params']):\n",
    "    print(\"%0.3f (+/-%0.03f) for %r\"% (mean, std * 2, params))\n",
    "print()\n",
    "\n",
    "\n",
    "# GridSearch - SGDClassifier\n",
    "print(\"****** SGDClassifier ******\")\n",
    "parameters = {\"alpha\" : [1e-7,1e-5,1e-3,0.1,1,10]}          \n",
    "grid_search = GridSearchCV(SGDClassifier(), parameters, cv=10, scoring=\"roc_auc\", n_jobs=-1, verbose=1)\n",
    "grid_search.fit(X,y)\n",
    "print(\"Best parameters set :\")\n",
    "print(grid_search.best_params_)\n",
    "print(\"Best score: %0.3f\" % grid_search.best_score_)\n",
    "print(\"Grid scores :\")\n",
    "means = grid_search.cv_results_['mean_test_score']\n",
    "stds = grid_search.cv_results_['std_test_score']\n",
    "for mean, std, params in zip(means, stds, grid_search.cv_results_['params']):\n",
    "    print(\"%0.3f (+/-%0.03f) for %r\"% (mean, std * 2, params))\n",
    "print()\n",
    "\n",
    "    \n",
    "# GridSearch - SVC\n",
    "print(\"****** SVC ******\")\n",
    "parameters = {\"C\" : [0.1,1,10], \"kernel\":[\"rbf\",\"poly\",\"linear\", \"sigmoid\"]}    \n",
    "grid_search = GridSearchCV(SVC(), parameters, cv=10, scoring=\"roc_auc\", n_jobs=-1, verbose=1)\n",
    "grid_search.fit(X,y)\n",
    "print(\"Best parameters set :\")\n",
    "print(grid_search.best_params_)\n",
    "print(\"Best score: %0.3f\" % grid_search.best_score_)\n",
    "print(\"Grid scores :\")\n",
    "means = grid_search.cv_results_['mean_test_score']\n",
    "stds = grid_search.cv_results_['std_test_score']\n",
    "for mean, std, params in zip(means, stds, grid_search.cv_results_['params']):\n",
    "    print(\"%0.3f (+/-%0.03f) for %r\"% (mean, std * 2, params))\n",
    "print()\n",
    "\n",
    "\n",
    "# GridSearch - LinearSVC\n",
    "print(\"****** LinearSVC ******\")\n",
    "parameters = {\"C\" : [0.1,1,10]}    \n",
    "grid_search = GridSearchCV(LinearSVC(), parameters, cv=10, scoring=\"roc_auc\", n_jobs=-1, verbose=1)\n",
    "grid_search.fit(X,y)\n",
    "print(\"Best parameters set :\")\n",
    "print(grid_search.best_params_)\n",
    "print(\"Best score: %0.3f\" % grid_search.best_score_)\n",
    "print(\"Grid scores :\")\n",
    "means = grid_search.cv_results_['mean_test_score']\n",
    "stds = grid_search.cv_results_['std_test_score']\n",
    "for mean, std, params in zip(means, stds, grid_search.cv_results_['params']):\n",
    "    print(\"%0.3f (+/-%0.03f) for %r\"% (mean, std * 2, params))\n",
    "print()\n"
   ]
  },
  {
   "cell_type": "code",
   "execution_count": null,
   "metadata": {
    "collapsed": true
   },
   "outputs": [],
   "source": []
  }
 ],
 "metadata": {
  "kernelspec": {
   "display_name": "Python 3",
   "language": "python",
   "name": "python3"
  },
  "language_info": {
   "codemirror_mode": {
    "name": "ipython",
    "version": 3
   },
   "file_extension": ".py",
   "mimetype": "text/x-python",
   "name": "python",
   "nbconvert_exporter": "python",
   "pygments_lexer": "ipython3",
   "version": "3.6.0"
  }
 },
 "nbformat": 4,
 "nbformat_minor": 2
}
